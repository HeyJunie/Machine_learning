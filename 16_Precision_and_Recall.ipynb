{
 "cells": [
  {
   "cell_type": "code",
   "execution_count": 1,
   "id": "49fdd5b8",
   "metadata": {},
   "outputs": [],
   "source": [
    "import pandas as pd\n",
    "\n",
    "red_url = 'https://raw.githubusercontent.com/PinkWink/ML_tutorial/master/dataset/winequality-red.csv'\n",
    "white_url = 'https://raw.githubusercontent.com/PinkWink/ML_tutorial/master/dataset/winequality-white.csv'\n",
    "\n",
    "red_wine = pd.read_csv(red_url, sep=';')\n",
    "white_wine = pd.read_csv(white_url, sep=';')\n",
    "\n",
    "red_wine['color'] = 1.\n",
    "white_wine['color'] = 0.\n",
    "\n",
    "wine = pd.concat([red_wine, white_wine])\n",
    "wine['taste'] = [1. if grade>5 else 0. for grade in wine['quality']]\n",
    "\n",
    "X = wine.drop(['taste', 'quality'], axis=1)\n",
    "y = wine['taste']"
   ]
  },
  {
   "cell_type": "markdown",
   "id": "ca003396",
   "metadata": {},
   "source": [
    "##### 데이터 분리"
   ]
  },
  {
   "cell_type": "code",
   "execution_count": 2,
   "id": "07187ac4",
   "metadata": {},
   "outputs": [],
   "source": [
    "from sklearn.model_selection import train_test_split\n",
    "\n",
    "X_train, X_test, y_train, y_test = train_test_split(X, y, test_size=0.2, random_state=13)"
   ]
  },
  {
   "cell_type": "markdown",
   "id": "8a17ae2d",
   "metadata": {},
   "source": [
    "##### Logistic regression"
   ]
  },
  {
   "cell_type": "code",
   "execution_count": 4,
   "id": "5c08f42f",
   "metadata": {},
   "outputs": [
    {
     "name": "stdout",
     "output_type": "stream",
     "text": [
      "Train Acc :  0.7425437752549547\n",
      "Test Acc :  0.7438461538461538\n"
     ]
    }
   ],
   "source": [
    "from sklearn.linear_model import LogisticRegression\n",
    "from sklearn.metrics import accuracy_score\n",
    "\n",
    "lr = LogisticRegression(solver='liblinear', random_state=13)\n",
    "lr.fit(X_train, y_train)\n",
    "\n",
    "y_pred_tr = lr.predict(X_train)\n",
    "y_pred_test = lr.predict(X_test)\n",
    "\n",
    "print('Train Acc : ', accuracy_score(y_train, y_pred_tr))\n",
    "print('Test Acc : ', accuracy_score(y_test, y_pred_test))"
   ]
  },
  {
   "cell_type": "markdown",
   "id": "498f1ff0",
   "metadata": {},
   "source": [
    "##### classification_report"
   ]
  },
  {
   "cell_type": "code",
   "execution_count": 5,
   "id": "87eee764",
   "metadata": {},
   "outputs": [
    {
     "name": "stdout",
     "output_type": "stream",
     "text": [
      "              precision    recall  f1-score   support\n",
      "\n",
      "         0.0       0.68      0.58      0.62       477\n",
      "         1.0       0.77      0.84      0.81       823\n",
      "\n",
      "    accuracy                           0.74      1300\n",
      "   macro avg       0.73      0.71      0.71      1300\n",
      "weighted avg       0.74      0.74      0.74      1300\n",
      "\n"
     ]
    }
   ],
   "source": [
    "from sklearn.metrics import classification_report\n",
    "\n",
    "print(classification_report(y_test, lr.predict(X_test)))"
   ]
  },
  {
   "cell_type": "markdown",
   "id": "75fa1d4f",
   "metadata": {},
   "source": [
    "##### confusion_matrix"
   ]
  },
  {
   "cell_type": "code",
   "execution_count": 6,
   "id": "c0a85f91",
   "metadata": {},
   "outputs": [
    {
     "data": {
      "text/plain": [
       "array([[275, 202],\n",
       "       [131, 692]], dtype=int64)"
      ]
     },
     "execution_count": 6,
     "metadata": {},
     "output_type": "execute_result"
    }
   ],
   "source": [
    "from sklearn.metrics import confusion_matrix\n",
    "\n",
    "confusion_matrix(y_test, lr.predict(X_test))"
   ]
  },
  {
   "cell_type": "markdown",
   "id": "b82d5bb0",
   "metadata": {},
   "source": [
    "##### precision_recall curve"
   ]
  },
  {
   "cell_type": "code",
   "execution_count": 8,
   "id": "0500e684",
   "metadata": {},
   "outputs": [
    {
     "data": {
      "image/png": "[encoded data removed]",
      "text/plain": [
       "<Figure size 720x576 with 1 Axes>"
      ]
     },
     "metadata": {
      "needs_background": "light"
     },
     "output_type": "display_data"
    }
   ],
   "source": [
    "import matplotlib.pyplot as plt\n",
    "from sklearn.metrics import precision_recall_curve\n",
    "%matplotlib inline\n",
    "\n",
    "plt.figure(figsize=(10, 8))\n",
    "pred = lr.predict_proba(X_test)[:, 1]\n",
    "precisions, recalls, thresholds = precision_recall_curve(y_test, pred)\n",
    "plt.plot(thresholds, precisions[:len(thresholds)], label='precision')\n",
    "plt.plot(thresholds, recalls[:len(thresholds)], label='recall')\n",
    "plt.grid()\n",
    "plt.legend()\n",
    "plt.show()"
   ]
  },
  {
   "cell_type": "markdown",
   "id": "5f81ffcf",
   "metadata": {},
   "source": [
    "##### threshold = 0.5"
   ]
  },
  {
   "cell_type": "code",
   "execution_count": 9,
   "id": "e7cd77f8",
   "metadata": {},
   "outputs": [
    {
     "data": {
      "text/plain": [
       "array([[0.40507838, 0.59492162],\n",
       "       [0.50967658, 0.49032342],\n",
       "       [0.10212995, 0.89787005]])"
      ]
     },
     "execution_count": 9,
     "metadata": {},
     "output_type": "execute_result"
    }
   ],
   "source": [
    "pred_proba = lr.predict_proba(X_test)\n",
    "pred_proba[:3]"
   ]
  },
  {
   "cell_type": "code",
   "execution_count": 10,
   "id": "bf7b79f8",
   "metadata": {},
   "outputs": [
    {
     "data": {
      "text/plain": [
       "array([[0.40507838, 0.59492162],\n",
       "       [0.50967658, 0.49032342],\n",
       "       [0.10212995, 0.89787005],\n",
       "       ...,\n",
       "       [0.22538128, 0.77461872],\n",
       "       [0.67364548, 0.32635452],\n",
       "       [0.31440844, 0.68559156]])"
      ]
     },
     "execution_count": 10,
     "metadata": {},
     "output_type": "execute_result"
    }
   ],
   "source": [
    "pred_proba"
   ]
  },
  {
   "cell_type": "code",
   "execution_count": 11,
   "id": "bc95d7b5",
   "metadata": {},
   "outputs": [
    {
     "data": {
      "text/plain": [
       "array([1., 0., 1., ..., 1., 0., 1.])"
      ]
     },
     "execution_count": 11,
     "metadata": {},
     "output_type": "execute_result"
    }
   ],
   "source": [
    "y_pred_test"
   ]
  },
  {
   "cell_type": "code",
   "execution_count": 13,
   "id": "2eb464c1",
   "metadata": {},
   "outputs": [
    {
     "data": {
      "text/plain": [
       "(1300, 1)"
      ]
     },
     "execution_count": 13,
     "metadata": {},
     "output_type": "execute_result"
    }
   ],
   "source": [
    "y_pred_test.reshape(-1, 1).shape"
   ]
  },
  {
   "cell_type": "code",
   "execution_count": 16,
   "id": "e9e9ea47",
   "metadata": {},
   "outputs": [
    {
     "data": {
      "text/plain": [
       "array([[0.40507838, 0.59492162, 1.        ],\n",
       "       [0.50967658, 0.49032342, 0.        ],\n",
       "       [0.10212995, 0.89787005, 1.        ],\n",
       "       ...,\n",
       "       [0.22538128, 0.77461872, 1.        ],\n",
       "       [0.67364548, 0.32635452, 0.        ],\n",
       "       [0.31440844, 0.68559156, 1.        ]])"
      ]
     },
     "execution_count": 16,
     "metadata": {},
     "output_type": "execute_result"
    }
   ],
   "source": [
    "import numpy as np\n",
    "\n",
    "np.concatenate([pred_proba, y_pred_test.reshape(-1, 1)], axis=1)"
   ]
  },
  {
   "cell_type": "markdown",
   "id": "03934178",
   "metadata": {},
   "source": [
    "##### threshold 바꿔보기 - Binarizer"
   ]
  },
  {
   "cell_type": "code",
   "execution_count": 17,
   "id": "4d2e9d9a",
   "metadata": {},
   "outputs": [
    {
     "data": {
      "text/plain": [
       "array([1., 0., 1., ..., 1., 0., 1.])"
      ]
     },
     "execution_count": 17,
     "metadata": {},
     "output_type": "execute_result"
    }
   ],
   "source": [
    "from sklearn.preprocessing import Binarizer\n",
    "\n",
    "binarizer = Binarizer(threshold=0.5).fit(pred_proba)\n",
    "pred_bin = binarizer.transform(pred_proba)[:, 1]\n",
    "pred_bin"
   ]
  },
  {
   "cell_type": "code",
   "execution_count": null,
   "id": "92563b9f",
   "metadata": {},
   "outputs": [],
   "source": []
  }
 ],
 "metadata": {
  "kernelspec": {
   "display_name": "Python 3 (ipykernel)",
   "language": "python",
   "name": "python3"
  },
  "language_info": {
   "codemirror_mode": {
    "name": "ipython",
    "version": 3
   },
   "file_extension": ".py",
   "mimetype": "text/x-python",
   "name": "python",
   "nbconvert_exporter": "python",
   "pygments_lexer": "ipython3",
   "version": "3.8.12"
  }
 },
 "nbformat": 4,
 "nbformat_minor": 5
}
