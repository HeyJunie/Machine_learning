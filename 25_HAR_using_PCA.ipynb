{
 "cells": [
  {
   "cell_type": "code",
   "execution_count": 1,
   "id": "e60e4250",
   "metadata": {},
   "outputs": [],
   "source": [
    "import pandas as pd"
   ]
  },
  {
   "cell_type": "code",
   "execution_count": 2,
   "id": "f314d35b",
   "metadata": {},
   "outputs": [],
   "source": [
    "url = \"https://raw.githubusercontent.com/PinkWink/ML_tutorial/master/dataset/HAR_dataset/features.txt\"\n",
    "\n",
    "feature_name_df = pd.read_csv(url, sep='\\s+', header=None, names=['column_index', 'column_name'])\n",
    "feature_name = feature_name_df.iloc[:,1].values.tolist()"
   ]
  },
  {
   "cell_type": "code",
   "execution_count": 3,
   "id": "ea8b9adb",
   "metadata": {},
   "outputs": [],
   "source": [
    "X_train_url = 'https://raw.githubusercontent.com/PinkWink/ML_tutorial/master/dataset/HAR_dataset/train/X_train.txt'\n",
    "X_test_url = 'https://raw.githubusercontent.com/PinkWink/ML_tutorial/master/dataset/HAR_dataset/test/X_test.txt'\n",
    "\n",
    "X_train = pd.read_csv(X_train_url, sep='\\s+', header=None)\n",
    "X_test = pd.read_csv(X_test_url, sep='\\s+', header=None)"
   ]
  },
  {
   "cell_type": "code",
   "execution_count": 4,
   "id": "c1651c66",
   "metadata": {},
   "outputs": [],
   "source": [
    "X_train.columns = feature_name\n",
    "X_test.columns = feature_name"
   ]
  },
  {
   "cell_type": "code",
   "execution_count": 5,
   "id": "94523f9b",
   "metadata": {},
   "outputs": [],
   "source": [
    "y_train_url = 'https://raw.githubusercontent.com/PinkWink/ML_tutorial/master/dataset/HAR_dataset/train/y_train.txt'\n",
    "y_test_url = 'https://raw.githubusercontent.com/PinkWink/ML_tutorial/master/dataset/HAR_dataset/test/y_test.txt'\n",
    "\n",
    "y_train = pd.read_csv(y_train_url, sep='\\s+', header=None, names=['action'])\n",
    "y_test = pd.read_csv(y_test_url, sep='\\s+', header=None, names=['action'])"
   ]
  },
  {
   "cell_type": "code",
   "execution_count": 6,
   "id": "9d93ed0b",
   "metadata": {},
   "outputs": [
    {
     "data": {
      "text/plain": [
       "((7352, 561), (2947, 561), (7352, 1), (2947, 1))"
      ]
     },
     "execution_count": 6,
     "metadata": {},
     "output_type": "execute_result"
    }
   ],
   "source": [
    "X_train.shape, X_test.shape, y_train.shape, y_test.shape"
   ]
  },
  {
   "cell_type": "code",
   "execution_count": 7,
   "id": "cddc8a09",
   "metadata": {},
   "outputs": [],
   "source": [
    "from sklearn.decomposition import PCA\n",
    "\n",
    "def get_pca_data(ss_data, n_components=2):\n",
    "    pca = PCA(n_components=n_components)\n",
    "    pca.fit(ss_data)\n",
    "    \n",
    "    return pca.transform(ss_data), pca"
   ]
  },
  {
   "cell_type": "code",
   "execution_count": 8,
   "id": "4baf8b20",
   "metadata": {},
   "outputs": [
    {
     "data": {
      "text/plain": [
       "(7352, 2)"
      ]
     },
     "execution_count": 8,
     "metadata": {},
     "output_type": "execute_result"
    }
   ],
   "source": [
    "HAR_pca, pca = get_pca_data(X_train, n_components=2)\n",
    "HAR_pca.shape"
   ]
  },
  {
   "cell_type": "code",
   "execution_count": 9,
   "id": "651bc7f5",
   "metadata": {},
   "outputs": [
    {
     "data": {
      "text/plain": [
       "((561,), (2, 561))"
      ]
     },
     "execution_count": 9,
     "metadata": {},
     "output_type": "execute_result"
    }
   ],
   "source": [
    "pca.mean_.shape, pca.components_.shape"
   ]
  },
  {
   "cell_type": "code",
   "execution_count": 10,
   "id": "54496346",
   "metadata": {},
   "outputs": [
    {
     "data": {
      "text/plain": [
       "['pca_0', 'pca_1']"
      ]
     },
     "execution_count": 10,
     "metadata": {},
     "output_type": "execute_result"
    }
   ],
   "source": [
    "cols = ['pca_' + str(n) for n in range(pca.components_.shape[0])]\n",
    "cols"
   ]
  },
  {
   "cell_type": "markdown",
   "id": "8ca6e1ac",
   "metadata": {},
   "source": [
    "##### PCA 결과를 저장하는 함수"
   ]
  },
  {
   "cell_type": "code",
   "execution_count": 11,
   "id": "edb4953f",
   "metadata": {},
   "outputs": [],
   "source": [
    "def get_pd_from_pca(pca_data, col_num):\n",
    "    cols = ['pca_' + str(n) for n in range(col_num)]\n",
    "    return pd.DataFrame(pca_data, columns=cols)"
   ]
  },
  {
   "cell_type": "code",
   "execution_count": 12,
   "id": "9df30252",
   "metadata": {},
   "outputs": [
    {
     "data": {
      "text/html": [
       "<div>\n",
       "<style scoped>\n",
       "    .dataframe tbody tr th:only-of-type {\n",
       "        vertical-align: middle;\n",
       "    }\n",
       "\n",
       "    .dataframe tbody tr th {\n",
       "        vertical-align: top;\n",
       "    }\n",
       "\n",
       "    .dataframe thead th {\n",
       "        text-align: right;\n",
       "    }\n",
       "</style>\n",
       "<table border=\"1\" class=\"dataframe\">\n",
       "  <thead>\n",
       "    <tr style=\"text-align: right;\">\n",
       "      <th></th>\n",
       "      <th>pca_0</th>\n",
       "      <th>pca_1</th>\n",
       "      <th>action</th>\n",
       "    </tr>\n",
       "  </thead>\n",
       "  <tbody>\n",
       "    <tr>\n",
       "      <th>0</th>\n",
       "      <td>-5.520280</td>\n",
       "      <td>-0.290278</td>\n",
       "      <td>5</td>\n",
       "    </tr>\n",
       "    <tr>\n",
       "      <th>1</th>\n",
       "      <td>-5.535350</td>\n",
       "      <td>-0.082530</td>\n",
       "      <td>5</td>\n",
       "    </tr>\n",
       "    <tr>\n",
       "      <th>2</th>\n",
       "      <td>-5.474988</td>\n",
       "      <td>0.287387</td>\n",
       "      <td>5</td>\n",
       "    </tr>\n",
       "    <tr>\n",
       "      <th>3</th>\n",
       "      <td>-5.677232</td>\n",
       "      <td>0.897031</td>\n",
       "      <td>5</td>\n",
       "    </tr>\n",
       "    <tr>\n",
       "      <th>4</th>\n",
       "      <td>-5.748749</td>\n",
       "      <td>1.162952</td>\n",
       "      <td>5</td>\n",
       "    </tr>\n",
       "  </tbody>\n",
       "</table>\n",
       "</div>"
      ],
      "text/plain": [
       "      pca_0     pca_1  action\n",
       "0 -5.520280 -0.290278       5\n",
       "1 -5.535350 -0.082530       5\n",
       "2 -5.474988  0.287387       5\n",
       "3 -5.677232  0.897031       5\n",
       "4 -5.748749  1.162952       5"
      ]
     },
     "execution_count": 12,
     "metadata": {},
     "output_type": "execute_result"
    }
   ],
   "source": [
    "HAR_pca, pca = get_pca_data(X_train, n_components=2)\n",
    "HAR_pd_pca = get_pd_from_pca(HAR_pca, pca.components_.shape[0])\n",
    "HAR_pd_pca['action'] = y_train\n",
    "HAR_pd_pca.head()"
   ]
  },
  {
   "cell_type": "code",
   "execution_count": 13,
   "id": "e5bdc1eb",
   "metadata": {},
   "outputs": [
    {
     "data": {
      "image/png": "[encoded data removed]",
      "text/plain": [
       "<Figure size 402.375x360 with 1 Axes>"
      ]
     },
     "metadata": {
      "needs_background": "light"
     },
     "output_type": "display_data"
    }
   ],
   "source": [
    "import seaborn as sns\n",
    "\n",
    "sns.pairplot(HAR_pd_pca, hue='action', height=5, x_vars=['pca_0'], y_vars=['pca_1']);"
   ]
  },
  {
   "cell_type": "code",
   "execution_count": 14,
   "id": "e675430a",
   "metadata": {},
   "outputs": [
    {
     "name": "stdout",
     "output_type": "stream",
     "text": [
      "variance_ratio :  [0.6255444  0.04913023]\n",
      "sum of variance_ratio :  0.6746746270487953\n"
     ]
    }
   ],
   "source": [
    "import numpy as np\n",
    "\n",
    "def print_variance_ratio(pca):\n",
    "    print('variance_ratio : ', pca.explained_variance_ratio_)\n",
    "    print('sum of variance_ratio : ', np.sum(pca.explained_variance_ratio_))\n",
    "    \n",
    "print_variance_ratio(pca)"
   ]
  },
  {
   "cell_type": "markdown",
   "id": "691850b5",
   "metadata": {},
   "source": [
    "##### components 3개"
   ]
  },
  {
   "cell_type": "code",
   "execution_count": 15,
   "id": "e5596b60",
   "metadata": {},
   "outputs": [
    {
     "name": "stdout",
     "output_type": "stream",
     "text": [
      "variance_ratio :  [0.6255444  0.04913023 0.04121467]\n",
      "sum of variance_ratio :  0.7158893015785881\n"
     ]
    }
   ],
   "source": [
    "HAR_pca, pca = get_pca_data(X_train, n_components=3)\n",
    "HAR_pd_pca = get_pd_from_pca(HAR_pca, pca.components_.shape[0])\n",
    "HAR_pd_pca['action'] = y_train\n",
    "\n",
    "print_variance_ratio(pca)"
   ]
  },
  {
   "cell_type": "markdown",
   "id": "6785e756",
   "metadata": {},
   "source": [
    "##### components 10개"
   ]
  },
  {
   "cell_type": "code",
   "execution_count": 16,
   "id": "b52fe4c0",
   "metadata": {},
   "outputs": [
    {
     "name": "stdout",
     "output_type": "stream",
     "text": [
      "variance_ratio :  [0.6255444  0.04913023 0.04121467 0.01874956 0.0169486  0.01272069\n",
      " 0.01176685 0.01068973 0.0096938  0.00858018]\n",
      "sum of variance_ratio :  0.805038711185584\n"
     ]
    }
   ],
   "source": [
    "HAR_pca, pca = get_pca_data(X_train, n_components=10)\n",
    "HAR_pd_pca = get_pd_from_pca(HAR_pca, pca.components_.shape[0])\n",
    "HAR_pd_pca['action'] = y_train\n",
    "\n",
    "print_variance_ratio(pca)"
   ]
  },
  {
   "cell_type": "code",
   "execution_count": 17,
   "id": "de50f4b9",
   "metadata": {},
   "outputs": [
    {
     "data": {
      "text/plain": [
       "GridSearchCV(cv=2, estimator=RandomForestClassifier(n_jobs=-1, random_state=13),\n",
       "             n_jobs=-1,\n",
       "             param_grid={'max_depth': [6, 8, 10], 'min_samples_leaf': [8, 12],\n",
       "                         'min_samples_split': [8, 12],\n",
       "                         'n_estimators': [50, 100, 200]})"
      ]
     },
     "execution_count": 17,
     "metadata": {},
     "output_type": "execute_result"
    }
   ],
   "source": [
    "from sklearn.model_selection import GridSearchCV\n",
    "from sklearn.ensemble import RandomForestClassifier\n",
    "\n",
    "params = {\n",
    "    'max_depth' : [6, 8, 10],\n",
    "    'n_estimators' : [50, 100, 200],\n",
    "    'min_samples_leaf' : [8, 12],\n",
    "    'min_samples_split' : [8, 12]\n",
    "}\n",
    "\n",
    "rf_clf = RandomForestClassifier(random_state=13, n_jobs=-1) # n_jobs -> cpu 코어 몇개를 사용할 지 (-1은 전부 사용)\n",
    "grid_cv = GridSearchCV(rf_clf, param_grid=params, cv=2, n_jobs=-1)\n",
    "grid_cv.fit(HAR_pca, y_train.values.reshape(-1,))"
   ]
  },
  {
   "cell_type": "code",
   "execution_count": 18,
   "id": "a4fbc3a6",
   "metadata": {},
   "outputs": [
    {
     "data": {
      "text/html": [
       "<div>\n",
       "<style scoped>\n",
       "    .dataframe tbody tr th:only-of-type {\n",
       "        vertical-align: middle;\n",
       "    }\n",
       "\n",
       "    .dataframe tbody tr th {\n",
       "        vertical-align: top;\n",
       "    }\n",
       "\n",
       "    .dataframe thead th {\n",
       "        text-align: right;\n",
       "    }\n",
       "</style>\n",
       "<table border=\"1\" class=\"dataframe\">\n",
       "  <thead>\n",
       "    <tr style=\"text-align: right;\">\n",
       "      <th></th>\n",
       "      <th>rank_test_score</th>\n",
       "      <th>mean_test_score</th>\n",
       "      <th>param_n_estimators</th>\n",
       "      <th>param_max_depth</th>\n",
       "    </tr>\n",
       "  </thead>\n",
       "  <tbody>\n",
       "    <tr>\n",
       "      <th>17</th>\n",
       "      <td>1</td>\n",
       "      <td>0.838003</td>\n",
       "      <td>200</td>\n",
       "      <td>8</td>\n",
       "    </tr>\n",
       "    <tr>\n",
       "      <th>14</th>\n",
       "      <td>1</td>\n",
       "      <td>0.838003</td>\n",
       "      <td>200</td>\n",
       "      <td>8</td>\n",
       "    </tr>\n",
       "    <tr>\n",
       "      <th>29</th>\n",
       "      <td>3</td>\n",
       "      <td>0.837731</td>\n",
       "      <td>200</td>\n",
       "      <td>10</td>\n",
       "    </tr>\n",
       "    <tr>\n",
       "      <th>26</th>\n",
       "      <td>3</td>\n",
       "      <td>0.837731</td>\n",
       "      <td>200</td>\n",
       "      <td>10</td>\n",
       "    </tr>\n",
       "    <tr>\n",
       "      <th>32</th>\n",
       "      <td>5</td>\n",
       "      <td>0.837051</td>\n",
       "      <td>200</td>\n",
       "      <td>10</td>\n",
       "    </tr>\n",
       "  </tbody>\n",
       "</table>\n",
       "</div>"
      ],
      "text/plain": [
       "    rank_test_score  mean_test_score param_n_estimators param_max_depth\n",
       "17                1         0.838003                200               8\n",
       "14                1         0.838003                200               8\n",
       "29                3         0.837731                200              10\n",
       "26                3         0.837731                200              10\n",
       "32                5         0.837051                200              10"
      ]
     },
     "execution_count": 18,
     "metadata": {},
     "output_type": "execute_result"
    }
   ],
   "source": [
    "cv_results_df = pd.DataFrame(grid_cv.cv_results_)\n",
    "target_col = ['rank_test_score', 'mean_test_score', 'param_n_estimators', 'param_max_depth']\n",
    "cv_results_df[target_col].sort_values('rank_test_score').head()"
   ]
  },
  {
   "cell_type": "code",
   "execution_count": 19,
   "id": "53b58805",
   "metadata": {},
   "outputs": [
    {
     "data": {
      "text/plain": [
       "{'max_depth': 8,\n",
       " 'min_samples_leaf': 8,\n",
       " 'min_samples_split': 8,\n",
       " 'n_estimators': 200}"
      ]
     },
     "execution_count": 19,
     "metadata": {},
     "output_type": "execute_result"
    }
   ],
   "source": [
    "grid_cv.best_params_"
   ]
  },
  {
   "cell_type": "code",
   "execution_count": 20,
   "id": "aa643e5a",
   "metadata": {},
   "outputs": [
    {
     "data": {
      "text/plain": [
       "0.8380032644178455"
      ]
     },
     "execution_count": 20,
     "metadata": {},
     "output_type": "execute_result"
    }
   ],
   "source": [
    "grid_cv.best_score_"
   ]
  },
  {
   "cell_type": "code",
   "execution_count": 21,
   "id": "465a90fc",
   "metadata": {},
   "outputs": [
    {
     "data": {
      "text/plain": [
       "0.8517136070580251"
      ]
     },
     "execution_count": 21,
     "metadata": {},
     "output_type": "execute_result"
    }
   ],
   "source": [
    "from sklearn.metrics import accuracy_score\n",
    "rf_clf_best = grid_cv.best_estimator_\n",
    "rf_clf_best.fit(HAR_pca, y_train.values.reshape(-1,))\n",
    "\n",
    "pred1 = rf_clf_best.predict(pca.transform(X_test))\n",
    "\n",
    "accuracy_score(y_test, pred1)"
   ]
  },
  {
   "cell_type": "code",
   "execution_count": 22,
   "id": "a301187d",
   "metadata": {},
   "outputs": [
    {
     "name": "stdout",
     "output_type": "stream",
     "text": [
      "Active code page: 65001\n",
      "Requirement already satisfied: xgboost==0.90 in c:\\anaconda3\\envs\\ds_study\\lib\\site-packages (0.90)\n",
      "Requirement already satisfied: scipy in c:\\anaconda3\\envs\\ds_study\\lib\\site-packages (from xgboost==0.90) (1.7.3)\n",
      "Requirement already satisfied: numpy in c:\\anaconda3\\envs\\ds_study\\lib\\site-packages (from xgboost==0.90) (1.21.5)\n",
      "Note: you may need to restart the kernel to use updated packages.\n"
     ]
    }
   ],
   "source": [
    "pip install xgboost==0.90"
   ]
  },
  {
   "cell_type": "code",
   "execution_count": 23,
   "id": "a471840a",
   "metadata": {},
   "outputs": [
    {
     "name": "stdout",
     "output_type": "stream",
     "text": [
      "[0]\tvalidation_0-merror:0.225314\n",
      "Will train until validation_0-merror hasn't improved in 10 rounds.\n"
     ]
    },
    {
     "name": "stderr",
     "output_type": "stream",
     "text": [
      "C:\\Anaconda3\\envs\\ds_study\\lib\\site-packages\\sklearn\\preprocessing\\_label.py:133: DataConversionWarning: A column-vector y was passed when a 1d array was expected. Please change the shape of y to (n_samples, ), for example using ravel().\n",
      "  y = column_or_1d(y, warn=True)\n"
     ]
    },
    {
     "name": "stdout",
     "output_type": "stream",
     "text": [
      "[1]\tvalidation_0-merror:0.221921\n",
      "[2]\tvalidation_0-merror:0.204615\n",
      "[3]\tvalidation_0-merror:0.203936\n",
      "[4]\tvalidation_0-merror:0.2019\n",
      "[5]\tvalidation_0-merror:0.202579\n",
      "[6]\tvalidation_0-merror:0.197489\n",
      "[7]\tvalidation_0-merror:0.198846\n",
      "[8]\tvalidation_0-merror:0.197489\n",
      "[9]\tvalidation_0-merror:0.195114\n",
      "[10]\tvalidation_0-merror:0.194774\n",
      "[11]\tvalidation_0-merror:0.191381\n",
      "[12]\tvalidation_0-merror:0.185952\n",
      "[13]\tvalidation_0-merror:0.183577\n",
      "[14]\tvalidation_0-merror:0.182219\n",
      "[15]\tvalidation_0-merror:0.180862\n",
      "[16]\tvalidation_0-merror:0.180523\n",
      "[17]\tvalidation_0-merror:0.17679\n",
      "[18]\tvalidation_0-merror:0.178487\n",
      "[19]\tvalidation_0-merror:0.17679\n",
      "[20]\tvalidation_0-merror:0.175772\n",
      "[21]\tvalidation_0-merror:0.174415\n",
      "[22]\tvalidation_0-merror:0.175772\n",
      "[23]\tvalidation_0-merror:0.175433\n",
      "[24]\tvalidation_0-merror:0.174075\n",
      "[25]\tvalidation_0-merror:0.174754\n",
      "[26]\tvalidation_0-merror:0.173057\n",
      "[27]\tvalidation_0-merror:0.172379\n",
      "[28]\tvalidation_0-merror:0.172379\n",
      "[29]\tvalidation_0-merror:0.169664\n",
      "[30]\tvalidation_0-merror:0.168985\n",
      "[31]\tvalidation_0-merror:0.167967\n",
      "[32]\tvalidation_0-merror:0.16661\n",
      "[33]\tvalidation_0-merror:0.165931\n",
      "[34]\tvalidation_0-merror:0.16661\n",
      "[35]\tvalidation_0-merror:0.165253\n",
      "[36]\tvalidation_0-merror:0.166271\n",
      "[37]\tvalidation_0-merror:0.166949\n",
      "[38]\tvalidation_0-merror:0.166271\n",
      "[39]\tvalidation_0-merror:0.166271\n",
      "[40]\tvalidation_0-merror:0.167628\n",
      "[41]\tvalidation_0-merror:0.165253\n",
      "[42]\tvalidation_0-merror:0.165592\n",
      "[43]\tvalidation_0-merror:0.164235\n",
      "[44]\tvalidation_0-merror:0.163895\n",
      "[45]\tvalidation_0-merror:0.164913\n",
      "[46]\tvalidation_0-merror:0.163556\n",
      "[47]\tvalidation_0-merror:0.163556\n",
      "[48]\tvalidation_0-merror:0.162199\n",
      "[49]\tvalidation_0-merror:0.160842\n",
      "[50]\tvalidation_0-merror:0.160163\n",
      "[51]\tvalidation_0-merror:0.159145\n",
      "[52]\tvalidation_0-merror:0.15677\n",
      "[53]\tvalidation_0-merror:0.156091\n",
      "[54]\tvalidation_0-merror:0.155752\n",
      "[55]\tvalidation_0-merror:0.154734\n",
      "[56]\tvalidation_0-merror:0.154055\n",
      "[57]\tvalidation_0-merror:0.154055\n",
      "[58]\tvalidation_0-merror:0.152358\n",
      "[59]\tvalidation_0-merror:0.152698\n",
      "[60]\tvalidation_0-merror:0.15134\n",
      "[61]\tvalidation_0-merror:0.15134\n",
      "[62]\tvalidation_0-merror:0.15168\n",
      "[63]\tvalidation_0-merror:0.149644\n",
      "[64]\tvalidation_0-merror:0.148626\n",
      "[65]\tvalidation_0-merror:0.149304\n",
      "[66]\tvalidation_0-merror:0.148965\n",
      "[67]\tvalidation_0-merror:0.148965\n",
      "[68]\tvalidation_0-merror:0.149304\n",
      "[69]\tvalidation_0-merror:0.149304\n",
      "[70]\tvalidation_0-merror:0.148965\n",
      "[71]\tvalidation_0-merror:0.148286\n",
      "[72]\tvalidation_0-merror:0.147608\n",
      "[73]\tvalidation_0-merror:0.147608\n",
      "[74]\tvalidation_0-merror:0.149304\n",
      "[75]\tvalidation_0-merror:0.150322\n",
      "[76]\tvalidation_0-merror:0.149983\n",
      "[77]\tvalidation_0-merror:0.149644\n",
      "[78]\tvalidation_0-merror:0.149983\n",
      "[79]\tvalidation_0-merror:0.150322\n",
      "[80]\tvalidation_0-merror:0.147268\n",
      "[81]\tvalidation_0-merror:0.148626\n",
      "[82]\tvalidation_0-merror:0.147268\n",
      "[83]\tvalidation_0-merror:0.147268\n",
      "[84]\tvalidation_0-merror:0.146929\n",
      "[85]\tvalidation_0-merror:0.145572\n",
      "[86]\tvalidation_0-merror:0.145572\n",
      "[87]\tvalidation_0-merror:0.14625\n",
      "[88]\tvalidation_0-merror:0.145911\n",
      "[89]\tvalidation_0-merror:0.145911\n",
      "[90]\tvalidation_0-merror:0.14625\n",
      "[91]\tvalidation_0-merror:0.144554\n",
      "[92]\tvalidation_0-merror:0.144214\n",
      "[93]\tvalidation_0-merror:0.145911\n",
      "[94]\tvalidation_0-merror:0.145572\n",
      "[95]\tvalidation_0-merror:0.144893\n",
      "[96]\tvalidation_0-merror:0.144554\n",
      "[97]\tvalidation_0-merror:0.144554\n",
      "[98]\tvalidation_0-merror:0.143196\n",
      "[99]\tvalidation_0-merror:0.144893\n",
      "[100]\tvalidation_0-merror:0.144214\n",
      "[101]\tvalidation_0-merror:0.143196\n",
      "[102]\tvalidation_0-merror:0.143196\n",
      "[103]\tvalidation_0-merror:0.143196\n",
      "[104]\tvalidation_0-merror:0.142857\n",
      "[105]\tvalidation_0-merror:0.142857\n",
      "[106]\tvalidation_0-merror:0.142178\n",
      "[107]\tvalidation_0-merror:0.141839\n",
      "[108]\tvalidation_0-merror:0.140821\n",
      "[109]\tvalidation_0-merror:0.1415\n",
      "[110]\tvalidation_0-merror:0.141161\n",
      "[111]\tvalidation_0-merror:0.139803\n",
      "[112]\tvalidation_0-merror:0.139803\n",
      "[113]\tvalidation_0-merror:0.140821\n",
      "[114]\tvalidation_0-merror:0.139125\n",
      "[115]\tvalidation_0-merror:0.139464\n",
      "[116]\tvalidation_0-merror:0.138446\n",
      "[117]\tvalidation_0-merror:0.139125\n",
      "[118]\tvalidation_0-merror:0.138107\n",
      "[119]\tvalidation_0-merror:0.137428\n",
      "[120]\tvalidation_0-merror:0.136071\n",
      "[121]\tvalidation_0-merror:0.135731\n",
      "[122]\tvalidation_0-merror:0.13641\n",
      "[123]\tvalidation_0-merror:0.13641\n",
      "[124]\tvalidation_0-merror:0.13641\n",
      "[125]\tvalidation_0-merror:0.135392\n",
      "[126]\tvalidation_0-merror:0.135731\n",
      "[127]\tvalidation_0-merror:0.136749\n",
      "[128]\tvalidation_0-merror:0.136071\n",
      "[129]\tvalidation_0-merror:0.136071\n",
      "[130]\tvalidation_0-merror:0.135053\n",
      "[131]\tvalidation_0-merror:0.135392\n",
      "[132]\tvalidation_0-merror:0.135392\n",
      "[133]\tvalidation_0-merror:0.136071\n",
      "[134]\tvalidation_0-merror:0.135731\n",
      "[135]\tvalidation_0-merror:0.135392\n",
      "[136]\tvalidation_0-merror:0.135731\n",
      "[137]\tvalidation_0-merror:0.134713\n",
      "[138]\tvalidation_0-merror:0.135392\n",
      "[139]\tvalidation_0-merror:0.134374\n",
      "[140]\tvalidation_0-merror:0.134035\n",
      "[141]\tvalidation_0-merror:0.134374\n",
      "[142]\tvalidation_0-merror:0.134713\n",
      "[143]\tvalidation_0-merror:0.134374\n",
      "[144]\tvalidation_0-merror:0.134035\n",
      "[145]\tvalidation_0-merror:0.133695\n",
      "[146]\tvalidation_0-merror:0.134035\n",
      "[147]\tvalidation_0-merror:0.132677\n",
      "[148]\tvalidation_0-merror:0.132677\n",
      "[149]\tvalidation_0-merror:0.134035\n",
      "[150]\tvalidation_0-merror:0.135053\n",
      "[151]\tvalidation_0-merror:0.134713\n",
      "[152]\tvalidation_0-merror:0.134713\n",
      "[153]\tvalidation_0-merror:0.135053\n",
      "[154]\tvalidation_0-merror:0.135053\n",
      "[155]\tvalidation_0-merror:0.134713\n",
      "[156]\tvalidation_0-merror:0.134035\n",
      "[157]\tvalidation_0-merror:0.133695\n",
      "Stopping. Best iteration:\n",
      "[147]\tvalidation_0-merror:0.132677\n",
      "\n",
      "Fit time :  13.932034730911255\n"
     ]
    }
   ],
   "source": [
    "import time\n",
    "from xgboost import XGBClassifier\n",
    "\n",
    "evals = [(pca.transform(X_test), y_test)]\n",
    "\n",
    "start_time = time.time()\n",
    "xgb = XGBClassifier(n_estimators=400, learning_rate=0.1, max_depth=3)\n",
    "xgb.fit(HAR_pca, y_train.values.reshape(-1,), early_stopping_rounds=10, eval_set=evals)\n",
    "print('Fit time : ', time.time() - start_time)"
   ]
  },
  {
   "cell_type": "code",
   "execution_count": 24,
   "id": "83aeee46",
   "metadata": {},
   "outputs": [
    {
     "data": {
      "text/plain": [
       "0.8673227010519172"
      ]
     },
     "execution_count": 24,
     "metadata": {},
     "output_type": "execute_result"
    }
   ],
   "source": [
    "accuracy_score(y_test, xgb.predict(pca.transform(X_test)))"
   ]
  }
 ],
 "metadata": {
  "kernelspec": {
   "display_name": "Python 3 (ipykernel)",
   "language": "python",
   "name": "python3"
  },
  "language_info": {
   "codemirror_mode": {
    "name": "ipython",
    "version": 3
   },
   "file_extension": ".py",
   "mimetype": "text/x-python",
   "name": "python",
   "nbconvert_exporter": "python",
   "pygments_lexer": "ipython3",
   "version": "3.8.12"
  }
 },
 "nbformat": 4,
 "nbformat_minor": 5
}
